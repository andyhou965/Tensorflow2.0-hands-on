{
 "cells": [
  {
   "cell_type": "code",
   "execution_count": 1,
   "metadata": {},
   "outputs": [],
   "source": [
    "from sklearn.datasets import fetch_california_housing\n",
    "from sklearn.model_selection import train_test_split\n",
    "from sklearn.preprocessing import StandardScaler\n",
    "\n",
    "import tensorflow as tf\n",
    "from tensorflow import keras"
   ]
  },
  {
   "cell_type": "code",
   "execution_count": 2,
   "metadata": {},
   "outputs": [],
   "source": [
    "housing = fetch_california_housing()\n",
    "\n",
    "X_train_full, X_test, y_train_full, y_test = train_test_split(housing.data, housing.target)\n",
    "X_train, X_valid, y_train, y_valid = train_test_split(X_train_full, y_train_full)\n",
    "\n",
    "scaler = StandardScaler()\n",
    "X_train = scaler.fit_transform(X_train)\n",
    "\n",
    "X_valid = scaler.transform(X_valid)\n",
    "X_test = scaler.transform(X_test)"
   ]
  },
  {
   "cell_type": "markdown",
   "metadata": {},
   "source": [
    "# Basic Saving & Restoring"
   ]
  },
  {
   "cell_type": "code",
   "execution_count": 3,
   "metadata": {},
   "outputs": [],
   "source": [
    "model = keras.models.Sequential([\n",
    "    keras.layers.Dense(30, activation=\"relu\", input_shape=X_train.shape[1:]),\n",
    "    keras.layers.Dense(30, activation=\"relu\"),\n",
    "    keras.layers.Dense(1)\n",
    "])"
   ]
  },
  {
   "cell_type": "code",
   "execution_count": 4,
   "metadata": {},
   "outputs": [
    {
     "name": "stdout",
     "output_type": "stream",
     "text": [
      "Epoch 1/20\n",
      "363/363 [==============================] - 1s 1ms/step - loss: 0.7679 - val_loss: 0.6765\n",
      "Epoch 2/20\n",
      "363/363 [==============================] - 0s 1ms/step - loss: 0.5309 - val_loss: 1.7432\n",
      "Epoch 3/20\n",
      "363/363 [==============================] - 0s 1ms/step - loss: 0.5287 - val_loss: 0.5647\n",
      "Epoch 4/20\n",
      "363/363 [==============================] - 0s 1ms/step - loss: 0.4241 - val_loss: 2.4381\n",
      "Epoch 5/20\n",
      "363/363 [==============================] - 0s 1ms/step - loss: 0.5310 - val_loss: 0.7188\n",
      "Epoch 6/20\n",
      "363/363 [==============================] - 0s 1ms/step - loss: 0.4144 - val_loss: 0.3985\n",
      "Epoch 7/20\n",
      "363/363 [==============================] - 0s 1ms/step - loss: 0.3748 - val_loss: 0.3534\n",
      "Epoch 8/20\n",
      "363/363 [==============================] - 0s 1ms/step - loss: 0.3663 - val_loss: 0.3530\n",
      "Epoch 9/20\n",
      "363/363 [==============================] - 0s 1ms/step - loss: 0.3651 - val_loss: 0.3494\n",
      "Epoch 10/20\n",
      "363/363 [==============================] - 0s 1ms/step - loss: 0.3545 - val_loss: 0.3440\n",
      "Epoch 11/20\n",
      "363/363 [==============================] - 1s 1ms/step - loss: 0.3508 - val_loss: 0.3354\n",
      "Epoch 12/20\n",
      "363/363 [==============================] - 1s 1ms/step - loss: 0.3475 - val_loss: 0.3358\n",
      "Epoch 13/20\n",
      "363/363 [==============================] - 0s 1ms/step - loss: 0.3460 - val_loss: 0.3325\n",
      "Epoch 14/20\n",
      "363/363 [==============================] - 0s 1ms/step - loss: 0.3428 - val_loss: 0.3392\n",
      "Epoch 15/20\n",
      "363/363 [==============================] - 0s 1ms/step - loss: 0.3399 - val_loss: 0.3290\n",
      "Epoch 16/20\n",
      "363/363 [==============================] - 0s 1ms/step - loss: 0.3355 - val_loss: 0.3283\n",
      "Epoch 17/20\n",
      "363/363 [==============================] - 0s 1ms/step - loss: 0.3429 - val_loss: 0.3351\n",
      "Epoch 18/20\n",
      "363/363 [==============================] - 0s 1ms/step - loss: 0.3427 - val_loss: 0.3240\n",
      "Epoch 19/20\n",
      "363/363 [==============================] - 0s 1ms/step - loss: 0.3329 - val_loss: 0.3250\n",
      "Epoch 20/20\n",
      "363/363 [==============================] - 0s 1ms/step - loss: 0.3299 - val_loss: 0.3254\n",
      "162/162 [==============================] - 0s 736us/step - loss: 0.3401\n"
     ]
    },
    {
     "data": {
      "text/plain": [
       "0.34014034271240234"
      ]
     },
     "execution_count": 4,
     "metadata": {},
     "output_type": "execute_result"
    }
   ],
   "source": [
    "model.compile(loss=\"mean_squared_error\", optimizer=\"sgd\")\n",
    "history = model.fit(X_train, y_train, epochs=20,\n",
    "                    validation_data=(X_valid, y_valid))\n",
    "model.evaluate(X_test, y_test)"
   ]
  },
  {
   "cell_type": "code",
   "execution_count": 5,
   "metadata": {},
   "outputs": [],
   "source": [
    "# Saving a model\n",
    "model.save(\"my_model.h5\")"
   ]
  },
  {
   "cell_type": "code",
   "execution_count": 6,
   "metadata": {},
   "outputs": [],
   "source": [
    "# Restoring a model\n",
    "model = keras.models.load_model(\"my_model.h5\")"
   ]
  },
  {
   "cell_type": "code",
   "execution_count": 7,
   "metadata": {},
   "outputs": [
    {
     "data": {
      "text/plain": [
       "array([[0.83272064],\n",
       "       [1.847893  ],\n",
       "       [1.5166662 ]], dtype=float32)"
      ]
     },
     "execution_count": 7,
     "metadata": {},
     "output_type": "execute_result"
    }
   ],
   "source": [
    "# Predict\n",
    "X_new = X_test[:3]\n",
    "y_pred = model.predict(X_new)\n",
    "y_pred"
   ]
  },
  {
   "cell_type": "code",
   "execution_count": 8,
   "metadata": {},
   "outputs": [
    {
     "data": {
      "text/plain": [
       "<tensorflow.python.training.tracking.util.CheckpointLoadStatus at 0x1109e1c10>"
      ]
     },
     "execution_count": 8,
     "metadata": {},
     "output_type": "execute_result"
    }
   ],
   "source": [
    "# Only save and load weights\n",
    "model.save_weights(\"my_model_weights.ckpt\")\n",
    "model.load_weights(\"my_model_weights.ckpt\")"
   ]
  },
  {
   "cell_type": "markdown",
   "metadata": {},
   "source": [
    "### The difference between save and save_weights\n",
    "\n",
    "- save(): 将整个模型保存下来(占用空间大)。以后直接载入模型文件即可开始使用,不用再定义网络结构和编译模型, 这种方法已经保存了模型的结构和权重, 以及损失函数和优化器\n",
    "\n",
    "- save_weights(): 只保存模型的权重, 但并没有保存模型的图结构(占用空间小)。使用时需要首先定义一个和训练时结构相同的model，然后使用定义的model加载weights。"
   ]
  },
  {
   "cell_type": "markdown",
   "metadata": {},
   "source": [
    "# Advanced Saving skills\n",
    "\n",
    "The save() function save the model after training. But in real-world projects the training usually lasts several hours. So we should not only save the model at the end of the training, but also save checkpoints at regular intervals during training, to avoid losing things if the computer crashes. \n",
    "\n",
    "We can use \"callbacks\" tell fit() method to save checkpoints at different intervals."
   ]
  },
  {
   "cell_type": "markdown",
   "metadata": {},
   "source": [
    "## 1. At the end of each epoch"
   ]
  },
  {
   "cell_type": "code",
   "execution_count": 9,
   "metadata": {},
   "outputs": [],
   "source": [
    "model = keras.models.Sequential([\n",
    "    keras.layers.Dense(30, activation=\"relu\", input_shape=X_train.shape[1:]),\n",
    "    keras.layers.Dense(30, activation=\"relu\"),\n",
    "    keras.layers.Dense(1)\n",
    "])\n",
    "\n",
    "model.compile(loss=\"mean_squared_error\", optimizer=\"sgd\")"
   ]
  },
  {
   "cell_type": "code",
   "execution_count": 10,
   "metadata": {},
   "outputs": [
    {
     "name": "stdout",
     "output_type": "stream",
     "text": [
      "Epoch 1/10\n",
      "363/363 [==============================] - 0s 935us/step - loss: 0.8124\n",
      "Epoch 2/10\n",
      "363/363 [==============================] - 0s 913us/step - loss: 0.7045\n",
      "Epoch 3/10\n",
      "363/363 [==============================] - 0s 931us/step - loss: 0.4412\n",
      "Epoch 4/10\n",
      "363/363 [==============================] - 0s 927us/step - loss: 0.4349\n",
      "Epoch 5/10\n",
      "363/363 [==============================] - 0s 851us/step - loss: 0.4709\n",
      "Epoch 6/10\n",
      "363/363 [==============================] - 0s 950us/step - loss: 0.3915\n",
      "Epoch 7/10\n",
      "363/363 [==============================] - 0s 1ms/step - loss: 0.3774\n",
      "Epoch 8/10\n",
      "363/363 [==============================] - 0s 865us/step - loss: 0.3694\n",
      "Epoch 9/10\n",
      "363/363 [==============================] - 0s 847us/step - loss: 0.3638\n",
      "Epoch 10/10\n",
      "363/363 [==============================] - 0s 851us/step - loss: 0.3581\n",
      "162/162 [==============================] - 0s 759us/step - loss: 0.3662\n"
     ]
    },
    {
     "data": {
      "text/plain": [
       "0.36623772978782654"
      ]
     },
     "execution_count": 10,
     "metadata": {},
     "output_type": "execute_result"
    }
   ],
   "source": [
    "# the ModelCheckpoint callback saves checkpoints of your model at regular intervals during training\n",
    "# by default at the end of each epoch\n",
    "checkpoint_cb = keras.callbacks.ModelCheckpoint(\"my_model.h5\")\n",
    "history = model.fit(X_train, y_train, epochs=10,\n",
    "                    callbacks=[checkpoint_cb])\n",
    "\n",
    "model = keras.models.load_model(\"my_model.h5\")\n",
    "model.evaluate(X_test, y_test)"
   ]
  },
  {
   "cell_type": "markdown",
   "metadata": {},
   "source": [
    "## 2. Save the best model so far (depends on the evaluation on the validation set)"
   ]
  },
  {
   "cell_type": "code",
   "execution_count": 11,
   "metadata": {},
   "outputs": [],
   "source": [
    "model = keras.models.Sequential([\n",
    "    keras.layers.Dense(30, activation=\"relu\", input_shape=X_train.shape[1:]),\n",
    "    keras.layers.Dense(30, activation=\"relu\"),\n",
    "    keras.layers.Dense(1)\n",
    "])\n",
    "\n",
    "model.compile(loss=\"mean_squared_error\", optimizer=\"sgd\")"
   ]
  },
  {
   "cell_type": "code",
   "execution_count": 12,
   "metadata": {},
   "outputs": [
    {
     "name": "stdout",
     "output_type": "stream",
     "text": [
      "Epoch 1/10\n",
      "363/363 [==============================] - 0s 1ms/step - loss: 0.8047 - val_loss: 2.2300\n",
      "Epoch 2/10\n",
      "363/363 [==============================] - 0s 1ms/step - loss: 0.7453 - val_loss: 1.4260\n",
      "Epoch 3/10\n",
      "363/363 [==============================] - 0s 1ms/step - loss: 0.4981 - val_loss: 5.3459\n",
      "Epoch 4/10\n",
      "363/363 [==============================] - 0s 1ms/step - loss: 0.6325 - val_loss: 7.1433\n",
      "Epoch 5/10\n",
      "363/363 [==============================] - 0s 1ms/step - loss: 0.7843 - val_loss: 0.4559\n",
      "Epoch 6/10\n",
      "363/363 [==============================] - 0s 1ms/step - loss: 0.4279 - val_loss: 7.8035\n",
      "Epoch 7/10\n",
      "363/363 [==============================] - 0s 1ms/step - loss: 0.5111 - val_loss: 0.4591\n",
      "Epoch 8/10\n",
      "363/363 [==============================] - 0s 1ms/step - loss: 0.3658 - val_loss: 0.3476\n",
      "Epoch 9/10\n",
      "363/363 [==============================] - 0s 1ms/step - loss: 0.3523 - val_loss: 0.3394\n",
      "Epoch 10/10\n",
      "363/363 [==============================] - 0s 1ms/step - loss: 0.3400 - val_loss: 0.3301\n",
      "162/162 [==============================] - 0s 798us/step - loss: 0.3460\n"
     ]
    },
    {
     "data": {
      "text/plain": [
       "0.3459774851799011"
      ]
     },
     "execution_count": 12,
     "metadata": {},
     "output_type": "execute_result"
    }
   ],
   "source": [
    "# Only save the best model. In order to do this, we need the \"Validation dataset\"\n",
    "checkpoint_best_cb = keras.callbacks.ModelCheckpoint(\"my_best_model.h5\", save_best_only=True)\n",
    "history = model.fit(X_train, y_train, validation_data=(X_valid, y_valid),\n",
    "                    epochs=10, callbacks=[checkpoint_best_cb])\n",
    "\n",
    "model = keras.models.load_model(\"my_best_model.h5\")\n",
    "model.evaluate(X_test, y_test)"
   ]
  },
  {
   "cell_type": "markdown",
   "metadata": {},
   "source": [
    "## 3. Interrupt training when no progress anymore"
   ]
  },
  {
   "cell_type": "code",
   "execution_count": 13,
   "metadata": {},
   "outputs": [],
   "source": [
    "model = keras.models.Sequential([\n",
    "    keras.layers.Dense(30, activation=\"relu\", input_shape=X_train.shape[1:]),\n",
    "    keras.layers.Dense(30, activation=\"relu\"),\n",
    "    keras.layers.Dense(1)\n",
    "])\n",
    "\n",
    "model.compile(loss=\"mean_squared_error\", optimizer=\"sgd\")"
   ]
  },
  {
   "cell_type": "code",
   "execution_count": 14,
   "metadata": {},
   "outputs": [
    {
     "name": "stdout",
     "output_type": "stream",
     "text": [
      "Epoch 1/200\n",
      "363/363 [==============================] - 0s 1ms/step - loss: 0.6787 - val_loss: 1.6331\n",
      "Epoch 2/200\n",
      "363/363 [==============================] - 0s 1ms/step - loss: 0.5854 - val_loss: 2.7971\n",
      "Epoch 3/200\n",
      "363/363 [==============================] - 0s 1ms/step - loss: 0.5392 - val_loss: 3.3580\n",
      "Epoch 4/200\n",
      "363/363 [==============================] - 0s 1ms/step - loss: 0.4647 - val_loss: 21.5522\n",
      "Epoch 5/200\n",
      "363/363 [==============================] - 0s 1ms/step - loss: 0.9593 - val_loss: 0.3947\n",
      "Epoch 6/200\n",
      "363/363 [==============================] - 0s 1ms/step - loss: 0.4333 - val_loss: 5.6635\n",
      "Epoch 7/200\n",
      "363/363 [==============================] - 0s 1ms/step - loss: 0.8325 - val_loss: 0.3793\n",
      "Epoch 8/200\n",
      "363/363 [==============================] - 0s 1ms/step - loss: 0.3699 - val_loss: 0.3728\n",
      "Epoch 9/200\n",
      "363/363 [==============================] - 0s 1ms/step - loss: 0.3581 - val_loss: 0.4156\n",
      "Epoch 10/200\n",
      "363/363 [==============================] - 0s 1ms/step - loss: 0.3550 - val_loss: 0.4814\n",
      "Epoch 11/200\n",
      "363/363 [==============================] - 0s 1ms/step - loss: 0.3569 - val_loss: 0.3567\n",
      "Epoch 12/200\n",
      "363/363 [==============================] - 0s 1ms/step - loss: 0.3432 - val_loss: 1.0783\n",
      "Epoch 13/200\n",
      "363/363 [==============================] - 0s 1ms/step - loss: 0.3894 - val_loss: 0.4465\n",
      "Epoch 14/200\n",
      "363/363 [==============================] - 0s 1ms/step - loss: 0.3883 - val_loss: 17.8635\n",
      "Epoch 15/200\n",
      "363/363 [==============================] - 0s 1ms/step - loss: 0.6289 - val_loss: 22.6407\n",
      "Epoch 16/200\n",
      "363/363 [==============================] - 0s 1ms/step - loss: 27.9433 - val_loss: 1.0159\n",
      "Epoch 17/200\n",
      "363/363 [==============================] - 0s 1ms/step - loss: 0.5219 - val_loss: 0.5629\n",
      "Epoch 18/200\n",
      "363/363 [==============================] - 0s 1ms/step - loss: 0.4363 - val_loss: 0.4787\n",
      "Epoch 19/200\n",
      "363/363 [==============================] - 0s 1ms/step - loss: 0.4141 - val_loss: 0.4223\n",
      "Epoch 20/200\n",
      "363/363 [==============================] - 0s 1ms/step - loss: 0.4039 - val_loss: 0.3796\n",
      "Epoch 21/200\n",
      "363/363 [==============================] - 0s 1ms/step - loss: 0.3972 - val_loss: 0.3727\n",
      "162/162 [==============================] - 0s 708us/step - loss: 0.3627\n"
     ]
    },
    {
     "data": {
      "text/plain": [
       "0.36273834109306335"
      ]
     },
     "execution_count": 14,
     "metadata": {},
     "output_type": "execute_result"
    }
   ],
   "source": [
    "# Interrupt training when it measures no progress on the validation set for a number of epochs (defined by the patience argument). \n",
    "# Can combine both callbacks(save_best_only and early_stop) to save checkpoints of your model (in case your computer crashes) \n",
    "# and interrupt training early when there is no more progress (to avoid wasting time and resources)\n",
    "\n",
    "early_stop_cb = keras.callbacks.EarlyStopping(patience=10, restore_best_weights=True)\n",
    "history = model.fit(X_train, y_train, validation_data=(X_valid, y_valid), \n",
    "                    epochs=200, callbacks=[checkpoint_best_cb, early_stop_cb])\n",
    "model.evaluate(X_test, y_test)"
   ]
  },
  {
   "cell_type": "markdown",
   "metadata": {},
   "source": [
    "## 4. Custom our own callbacks"
   ]
  },
  {
   "cell_type": "code",
   "execution_count": 21,
   "metadata": {},
   "outputs": [],
   "source": [
    "class DIYCallback(keras.callbacks.Callback):\n",
    "    def on_epoch_begin(self, epoch, logs):\n",
    "        print(\"\\n***** Begin of Epoch {} *****\".format(epoch+1))\n",
    "    def on_epoch_end(self, epoch, logs):\n",
    "        print(\"\\n***** End of Epoch {} *****\".format(epoch+1))"
   ]
  },
  {
   "cell_type": "code",
   "execution_count": 22,
   "metadata": {},
   "outputs": [],
   "source": [
    "model = keras.models.Sequential([\n",
    "    keras.layers.Dense(30, activation=\"relu\", input_shape=X_train.shape[1:]),\n",
    "    keras.layers.Dense(30, activation=\"relu\"),\n",
    "    keras.layers.Dense(1)\n",
    "])\n",
    "\n",
    "model.compile(loss=\"mean_squared_error\", optimizer=\"sgd\")"
   ]
  },
  {
   "cell_type": "code",
   "execution_count": 23,
   "metadata": {},
   "outputs": [
    {
     "name": "stdout",
     "output_type": "stream",
     "text": [
      "\n",
      "***** Begin of Epoch 1 *****\n",
      "Epoch 1/5\n",
      "302/363 [=======================>......] - ETA: 0s - loss: 1.3044\n",
      "***** End of Epoch 1 *****\n",
      "363/363 [==============================] - 0s 1ms/step - loss: 1.2057 - val_loss: 24.5355\n",
      "\n",
      "***** Begin of Epoch 2 *****\n",
      "Epoch 2/5\n",
      "321/363 [=========================>....] - ETA: 0s - loss: 0.8342\n",
      "***** End of Epoch 2 *****\n",
      "363/363 [==============================] - 0s 1ms/step - loss: 0.7978 - val_loss: 41.2737\n",
      "\n",
      "***** Begin of Epoch 3 *****\n",
      "Epoch 3/5\n",
      "349/363 [===========================>..] - ETA: 0s - loss: 0.5669\n",
      "***** End of Epoch 3 *****\n",
      "363/363 [==============================] - 0s 1ms/step - loss: 0.5616 - val_loss: 1.8720\n",
      "\n",
      "***** Begin of Epoch 4 *****\n",
      "Epoch 4/5\n",
      "307/363 [========================>.....] - ETA: 0s - loss: 0.4760\n",
      "***** End of Epoch 4 *****\n",
      "363/363 [==============================] - 0s 1ms/step - loss: 0.4776 - val_loss: 5.2391\n",
      "\n",
      "***** Begin of Epoch 5 *****\n",
      "Epoch 5/5\n",
      "314/363 [========================>.....] - ETA: 0s - loss: 0.5259\n",
      "***** End of Epoch 5 *****\n",
      "363/363 [==============================] - 0s 1ms/step - loss: 0.5012 - val_loss: 3.6442\n"
     ]
    }
   ],
   "source": [
    "diy_cb = DIYCallback()\n",
    "history = model.fit(X_train, y_train, epochs=5,\n",
    "                    validation_data=(X_valid, y_valid),\n",
    "                    callbacks=[diy_cb])"
   ]
  },
  {
   "cell_type": "code",
   "execution_count": null,
   "metadata": {},
   "outputs": [],
   "source": []
  }
 ],
 "metadata": {
  "kernelspec": {
   "display_name": "Python 3",
   "language": "python",
   "name": "python3"
  },
  "language_info": {
   "codemirror_mode": {
    "name": "ipython",
    "version": 3
   },
   "file_extension": ".py",
   "mimetype": "text/x-python",
   "name": "python",
   "nbconvert_exporter": "python",
   "pygments_lexer": "ipython3",
   "version": "3.7.5"
  }
 },
 "nbformat": 4,
 "nbformat_minor": 2
}
